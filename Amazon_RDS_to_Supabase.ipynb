{
  "nbformat": 4,
  "nbformat_minor": 0,
  "metadata": {
    "colab": {
      "provenance": [],
      "include_colab_link": true
    },
    "kernelspec": {
      "name": "python3",
      "display_name": "Python 3"
    },
    "language_info": {
      "name": "python"
    }
  },
  "cells": [
    {
      "cell_type": "markdown",
      "metadata": {
        "id": "view-in-github",
        "colab_type": "text"
      },
      "source": [
        "<a href=\"https://colab.research.google.com/github/mviswam/passport-google-oauth2/blob/master/Amazon_RDS_to_Supabase.ipynb\" target=\"_parent\"><img src=\"https://colab.research.google.com/assets/colab-badge.svg\" alt=\"Open In Colab\"/></a>"
      ]
    },
    {
      "cell_type": "markdown",
      "source": [
        "![Supabase](https://raw.githubusercontent.com/supabase/supabase/master/packages/common/assets/images/supabase-logo-wordmark--light.svg)\n",
        "\n"
      ],
      "metadata": {
        "id": "ul01YnnyiV0F"
      }
    },
    {
      "cell_type": "markdown",
      "source": [
        "#Amazon RDS to Supabase migration guide"
      ],
      "metadata": {
        "id": "FJ1MWneEiTHN"
      }
    },
    {
      "cell_type": "code",
      "execution_count": null,
      "metadata": {
        "id": "b-wWw_8jiREd"
      },
      "outputs": [],
      "source": [
        "#@title Select the `Engine` of the RDS Database & install required resources. { display-mode: \"form\" }\n",
        "engine = 'MySQL' #@param [\"Postgres\", \"MySQL\", \"MS SQL\",\"SQLite\"]\n",
        "\n",
        "!wget https://raw.githubusercontent.com/mansueli/Supa-Migrate/main/after.sql\n",
        "!wget https://raw.githubusercontent.com/mansueli/Supa-Migrate/main/before.sql\n",
        "\n",
        "if engine=='Postgres':\n",
        "  !sudo sh -c 'echo \"deb http://apt.postgresql.org/pub/repos/apt $(lsb_release -cs)-pgdg main\" > /etc/apt/sources.list.d/pgdg.list'\n",
        "  !wget --quiet -O - https://www.postgresql.org/media/keys/ACCC4CF8.asc | sudo apt-key add -\n",
        "  !sudo apt-get update &>log\n",
        "  !sudo apt-get -y install postgresql &>log\n",
        "  !wget https://raw.githubusercontent.com/mansueli/Supa-Migrate/main/migrate_postgres_project.sh &>log\n",
        "  print(\"Installed Postgres\")\n",
        "else:\n",
        "  !wget https://github.com/dimitri/pgloader/archive/refs/tags/v3.6.9.zip &>log\n",
        "  !apt-get install sbcl unzip libsqlite3-dev make curl gawk freetds-dev libzip-dev &>log\n",
        "  !unzip v3.6.9.zip -d pgloader &>log\n",
        "  !make -C ./pgloader/pgloader-3.6.9  &>log\n",
        "  !./pgloader/pgloader-3.6.9/build/bin/pgloader --help\n",
        "  print(\"Pgloader installed to migrate \"+engine+ \" to Supabase\")"
      ]
    },
    {
      "cell_type": "markdown",
      "source": [
        "## Set the environment Variables:"
      ],
      "metadata": {
        "id": "M81eaqYTkMii"
      }
    },
    {
      "cell_type": "code",
      "source": [
        "#Source DB variables:\n",
        "%env HOST=aws-0-ap-south-1.pooler.supabase.com\n",
        "%env USER=suser\n",
        "%env SOURCE_DB=localhost\n",
        "%env PASSWORD=SuperUser\n",
        "%env PORT=3306\n",
        "#Supabase variables:\n",
        "%env SUPAVISOR_URL=postgres://postgres.project:[P@ssword4MobatiaHR]@aws-0-us-west-1.pooler.supabase.com:5432/postgres\n",
        "%env SUPABASE_PASSWORD=Mv71@supabase\n"
      ],
      "metadata": {
        "id": "ZrXH3C65kRxk",
        "outputId": "f677ff3d-67d1-4d55-9467-5f12ce6fe27b",
        "colab": {
          "base_uri": "https://localhost:8080/"
        }
      },
      "execution_count": 2,
      "outputs": [
        {
          "output_type": "stream",
          "name": "stdout",
          "text": [
            "env: HOST=aws-0-ap-south-1.pooler.supabase.com\n",
            "env: USER=suser\n",
            "env: SOURCE_DB=localhost\n",
            "env: PASSWORD=SuperUser\n",
            "env: PORT=3306\n",
            "env: SUPAVISOR_URL=postgres://postgres.project:[P@ssword4MobatiaHR]@aws-0-us-west-1.pooler.supabase.com:5432/postgres\n",
            "env: SUPABASE_PASSWORD=Mv71@supabase\n"
          ]
        }
      ]
    },
    {
      "cell_type": "code",
      "source": [
        "#@title #Running the Migration: { display-mode: \"form\" }\n",
        "import os\n",
        "\n",
        "supabase_url = os.environ['SUPAVISOR_URL'].replace('[YOUR-PASSWORD]',os.environ['SUPABASE_PASSWORD'])\n",
        "supabase_conn_str = f\"{supabase_url}\"\n",
        "conn_str = f\"{os.environ['USER']}:{os.environ['PASSWORD']}@{os.environ['HOST']}:{os.environ['PORT']}/{os.environ['SOURCE_DB']}\"\n",
        "if engine=='MySQL':\n",
        "  mysql_conn_str = f\"mysql://{conn_str}\"\n",
        "  !./pgloader/pgloader-3.6.9/build/bin/pgloader --before before.sql --after after.sql \"{mysql_conn_str}\" \"{supabase_conn_str}\"\n",
        "if engine=='MS SQL':\n",
        "  mssql_conn_str = f\"mssql://{conn_str}\"\n",
        "  !./pgloader/pgloader-3.6.9/build/bin/pgloader --before before.sql --after after.sql \"{mssql_conn_str}\" \"{supabase_conn_str}\"\n",
        "if engine=='SQLite':\n",
        "  sqllite_conn_str = f\"sqllite://{conn_str}\"\n",
        "  !./pgloader/pgloader-3.6.9/build/bin/pgloader --before before.sql --after after.sql \"{sqllite_conn_str}\" \"{supabase_conn_str}\"\n",
        "if engine=='Postgres':\n",
        "  sender_db = os.environ['SOURCE_DB']\n",
        "  sender_user = os.environ['USER']\n",
        "  sender_host = os.environ['HOST']\n",
        "  sender_pgpass = os.environ['PASSWORD']\n",
        "  filedata = ''\n",
        "  with open('migrate_postgres_project.sh', 'r') as file :\n",
        "    filedata = file.read()\n",
        "    filedata = filedata.replace('POSTGRES_ORIGIN_USERNAME', sender_user)\n",
        "    filedata = filedata.replace('POSTGRES_ORIGIN_PASSWORD', sender_pgpass.replace(\"PGPASSWORD=\",\"\"))\n",
        "    filedata = filedata.replace('POSTGRES_ORIGIN_DATABASE', sender_db)\n",
        "    filedata = filedata.replace('POSTGRES_ORIGIN_HOST', sender_host)\n",
        "    filedata = filedata.replace('SUPABASE_HOST', os.environ[\"SUPAVISOR_URL\"])\n",
        "    filedata = filedata.replace('SUPABASE_PASSWORD', os.environ['SUPABASE_PASSWORD'])\n",
        "\n",
        "  with open('migrate_postgres_project.sh', 'w') as file:\n",
        "    file.write(filedata)\n",
        "\n",
        "  !bash ./migrate_postgres_project.sh #&>log\n",
        "print(\"Migration completed\")"
      ],
      "metadata": {
        "id": "76XQI9t3q6ut",
        "outputId": "74e14559-ed87-4c08-e437-08352be1efdf",
        "colab": {
          "base_uri": "https://localhost:8080/",
          "height": 207
        }
      },
      "execution_count": 3,
      "outputs": [
        {
          "output_type": "error",
          "ename": "NameError",
          "evalue": "name 'engine' is not defined",
          "traceback": [
            "\u001b[0;31m---------------------------------------------------------------------------\u001b[0m",
            "\u001b[0;31mNameError\u001b[0m                                 Traceback (most recent call last)",
            "\u001b[0;32m<ipython-input-3-e29ebab3c57a>\u001b[0m in \u001b[0;36m<cell line: 7>\u001b[0;34m()\u001b[0m\n\u001b[1;32m      5\u001b[0m \u001b[0msupabase_conn_str\u001b[0m \u001b[0;34m=\u001b[0m \u001b[0;34mf\"{supabase_url}\"\u001b[0m\u001b[0;34m\u001b[0m\u001b[0;34m\u001b[0m\u001b[0m\n\u001b[1;32m      6\u001b[0m \u001b[0mconn_str\u001b[0m \u001b[0;34m=\u001b[0m \u001b[0;34mf\"{os.environ['USER']}:{os.environ['PASSWORD']}@{os.environ['HOST']}:{os.environ['PORT']}/{os.environ['SOURCE_DB']}\"\u001b[0m\u001b[0;34m\u001b[0m\u001b[0;34m\u001b[0m\u001b[0m\n\u001b[0;32m----> 7\u001b[0;31m \u001b[0;32mif\u001b[0m \u001b[0mengine\u001b[0m\u001b[0;34m==\u001b[0m\u001b[0;34m'MySQL'\u001b[0m\u001b[0;34m:\u001b[0m\u001b[0;34m\u001b[0m\u001b[0;34m\u001b[0m\u001b[0m\n\u001b[0m\u001b[1;32m      8\u001b[0m   \u001b[0mmysql_conn_str\u001b[0m \u001b[0;34m=\u001b[0m \u001b[0;34mf\"mysql://{conn_str}\"\u001b[0m\u001b[0;34m\u001b[0m\u001b[0;34m\u001b[0m\u001b[0m\n\u001b[1;32m      9\u001b[0m   \u001b[0mget_ipython\u001b[0m\u001b[0;34m(\u001b[0m\u001b[0;34m)\u001b[0m\u001b[0;34m.\u001b[0m\u001b[0msystem\u001b[0m\u001b[0;34m(\u001b[0m\u001b[0;34m'./pgloader/pgloader-3.6.9/build/bin/pgloader --before before.sql --after after.sql \"{mysql_conn_str}\" \"{supabase_conn_str}\"'\u001b[0m\u001b[0;34m)\u001b[0m\u001b[0;34m\u001b[0m\u001b[0;34m\u001b[0m\u001b[0m\n",
            "\u001b[0;31mNameError\u001b[0m: name 'engine' is not defined"
          ]
        }
      ]
    }
  ]
}